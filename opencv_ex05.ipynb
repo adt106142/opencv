{
 "cells": [
  {
   "cell_type": "code",
   "execution_count": null,
   "metadata": {},
   "outputs": [],
   "source": [
    "import cv2\n",
    "\n",
    "face_cascade = cv2.CascadeClassifier('haarcascade_frontalface_default.xml')\n",
    "cap = cv2.VideoCapture(0)\n",
    "\n",
    "while True:\n",
    "    _,img = cap.read()\n",
    "    \n",
    "    gray = cv2.cvtColor(img,cv2.COLOR_BGR2GRAY)\n",
    "    \n",
    "    faces = face_cascade.detectMultiScale(gray,1.1,4)\n",
    "    \n",
    "    i=1\n",
    "    \n",
    "    for (x,y,w,h) in faces:\n",
    "        cv2.rectangle(img,(x,y),(x+w,y+h),(255,0,0),2)\n",
    "        crop_img=img[y:y+h,x:x+w]\n",
    "        cv2.imwrite(\"people\"+str(i)+\".png\",crop_img)\n",
    "        i=i+1\n",
    "        \n",
    "        \n",
    "    cv2.namedWindow('Human Face Found!',cv2.WINDOW_NORMAL)\n",
    "    cv2.imshow('Human Face Found!',img)\n",
    "    \n",
    "    if cv2.waitKey(50)==ord('s'):\n",
    "        cv2.imwrite(\"save.png\",img)        \n",
    "    if cv2.waitKey(50)==ord('q'):\n",
    "        break\n",
    "        \n",
    "        \n",
    "cap.release()\n",
    "cv2.destroyAllWindows()"
   ]
  },
  {
   "cell_type": "code",
   "execution_count": null,
   "metadata": {},
   "outputs": [],
   "source": [
    "print(faces)\n",
    "print('偵測到 {0} 張人臉!'.format(len(faces)))"
   ]
  }
 ],
 "metadata": {
  "kernelspec": {
   "display_name": "Python 3",
   "language": "python",
   "name": "python3"
  },
  "language_info": {
   "codemirror_mode": {
    "name": "ipython",
    "version": 3
   },
   "file_extension": ".py",
   "mimetype": "text/x-python",
   "name": "python",
   "nbconvert_exporter": "python",
   "pygments_lexer": "ipython3",
   "version": "3.7.0"
  }
 },
 "nbformat": 4,
 "nbformat_minor": 2
}
